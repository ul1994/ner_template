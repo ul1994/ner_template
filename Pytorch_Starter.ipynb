{
 "cells": [
  {
   "cell_type": "code",
   "execution_count": 1,
   "metadata": {},
   "outputs": [],
   "source": [
    "%load_ext autoreload\n",
    "%autoreload 2\n",
    "%matplotlib inline"
   ]
  },
  {
   "cell_type": "code",
   "execution_count": 2,
   "metadata": {},
   "outputs": [],
   "source": [
    "import numpy as np\n",
    "from torch import nn\n",
    "import json\n",
    "from numpy.random import shuffle\n",
    "import torch\n",
    "import torch.optim as optim\n",
    "import os, sys\n",
    "from time import time"
   ]
  },
  {
   "cell_type": "code",
   "execution_count": 3,
   "metadata": {},
   "outputs": [
    {
     "data": {
      "text/plain": [
       "device(type='cuda', index=0)"
      ]
     },
     "execution_count": 3,
     "metadata": {},
     "output_type": "execute_result"
    }
   ],
   "source": [
    "device = torch.device(\"cuda:0\" if torch.cuda.is_available() else \"cpu\")\n",
    "device"
   ]
  },
  {
   "cell_type": "code",
   "execution_count": 4,
   "metadata": {},
   "outputs": [
    {
     "data": {
      "text/plain": [
       "(23625, (23625, 300), 8)"
      ]
     },
     "execution_count": 4,
     "metadata": {},
     "output_type": "execute_result"
    }
   ],
   "source": [
    "with open('lookup.json') as fl:\n",
    "    tag_lookup = json.load(fl)\n",
    "    \n",
    "with open('word_list.txt') as fl:\n",
    "    vocab = fl.read().split('\\n')\n",
    "\n",
    "embeds = np.load('word_embeds.npy')\n",
    "wlookup = { word: index for index, word in enumerate(vocab) }\n",
    "\n",
    "len(vocab), embeds.shape, len(tag_lookup)"
   ]
  },
  {
   "cell_type": "code",
   "execution_count": 5,
   "metadata": {},
   "outputs": [
    {
     "data": {
      "text/plain": [
       "(0.376953125, 0.48046875)"
      ]
     },
     "execution_count": 5,
     "metadata": {},
     "output_type": "execute_result"
    }
   ],
   "source": [
    "np.max(embeds[wlookup['Japan']]), np.max(embeds[wlookup['Russia']])"
   ]
  },
  {
   "cell_type": "code",
   "execution_count": 16,
   "metadata": {},
   "outputs": [
    {
     "data": {
      "text/plain": [
       "(14986, 3465, 3683)"
      ]
     },
     "execution_count": 16,
     "metadata": {},
     "output_type": "execute_result"
    }
   ],
   "source": [
    "with open('eng.train') as fl:\n",
    "    sents = fl.read().split('\\n\\n')[1:-1]\n",
    "    \n",
    "with open('eng.testa') as fl:\n",
    "    eval_sents = fl.read().split('\\n\\n')[1:-1]\n",
    "    \n",
    "with open('eng.testb') as fl:\n",
    "    test_sents = fl.read().split('\\n\\n')[1:-1]\n",
    "    \n",
    "len(sents), len(eval_sents), len(test_sents)"
   ]
  },
  {
   "cell_type": "markdown",
   "metadata": {},
   "source": [
    "### Function to generate the (embedded representation, 1-hot target predictions) for a given sentence"
   ]
  },
  {
   "cell_type": "code",
   "execution_count": 7,
   "metadata": {},
   "outputs": [
    {
     "data": {
      "text/plain": [
       "((9, 300), array([[0., 0., 0., 0., 0., 1., 0., 0.],\n",
       "        [0., 0., 0., 0., 0., 0., 0., 1.],\n",
       "        [0., 0., 0., 1., 0., 0., 0., 0.],\n",
       "        [0., 0., 0., 0., 0., 0., 0., 1.],\n",
       "        [0., 0., 0., 0., 0., 0., 0., 1.],\n",
       "        [0., 0., 0., 0., 0., 0., 0., 1.],\n",
       "        [0., 0., 0., 1., 0., 0., 0., 0.],\n",
       "        [0., 0., 0., 0., 0., 0., 0., 1.],\n",
       "        [0., 0., 0., 0., 0., 0., 0., 1.]]))"
      ]
     },
     "execution_count": 7,
     "metadata": {},
     "output_type": "execute_result"
    }
   ],
   "source": [
    "def load_sent(sent):\n",
    "    words = sent.split('\\n')\n",
    "    inps = []\n",
    "    outs = []\n",
    "    for wordinfo in words:\n",
    "        word, _, _, tag = wordinfo.split()\n",
    "        try:\n",
    "            assert word in wlookup\n",
    "        except:\n",
    "            # word not in our known dictionary, so use the unk token\n",
    "            word = 'unk'\n",
    "        inps.append(embeds[wlookup[word]])\n",
    "        hot = np.zeros(len(tag_lookup))\n",
    "        hot[tag_lookup[tag]] = 1\n",
    "        outs.append(hot)\n",
    "    return [np.vstack(inps), np.vstack(outs)]\n",
    "\n",
    "ins, outs = load_sent(sents[0])\n",
    "ins.shape, outs"
   ]
  },
  {
   "cell_type": "code",
   "execution_count": 8,
   "metadata": {},
   "outputs": [
    {
     "data": {
      "text/plain": [
       "[8586, 13865, 7536, 11563, 9630, 1118, 3575, 13496, 13953, 1284]"
      ]
     },
     "execution_count": 8,
     "metadata": {},
     "output_type": "execute_result"
    }
   ],
   "source": [
    "BSIZE = 1\n",
    "train_inds = list(range(len(sents)))\n",
    "shuffle(train_inds)\n",
    "train_inds[:10]"
   ]
  },
  {
   "cell_type": "code",
   "execution_count": 9,
   "metadata": {},
   "outputs": [],
   "source": [
    "class RNN(nn.Module):\n",
    "    def __init__(self, insize=300, outsize=8, hsize=128):\n",
    "        super().__init__()\n",
    "        \n",
    "        # TODO: Dropout\n",
    "        # TODO: nonlinearities\n",
    "        # TODO: Bidirectional\n",
    "\n",
    "        self.hsize = hsize\n",
    "        self.inp = nn.Sequential(\n",
    "            nn.Linear(insize, hsize),\n",
    "        )\n",
    "        self.out = nn.Sequential(\n",
    "            nn.Linear(hsize, outsize),\n",
    "            nn.Softmax(dim=-1),\n",
    "        )\n",
    "\n",
    "        # FIXME: this is a uni-directional LSTM\n",
    "        self.rnn = nn.LSTM(hsize, hsize, 1, batch_first=True)\n",
    "\n",
    "    def forward(self, inputs, hidden=None):\n",
    "        hin = self.inp(inputs)\n",
    "        \n",
    "        hout, hidden = self.rnn(hin)\n",
    "        \n",
    "        yout = self.out(hout)\n",
    "        \n",
    "        return yout, hidden\n",
    "    \n",
    "model = RNN().to(device)\n",
    "criterion = nn.MSELoss().cuda()\n",
    "opt = optim.Adam(model.parameters(), lr=0.0005)\n",
    "# sch = optim.lr_scheduler.StepLR(opt, step_size=30, gamma=0.5)"
   ]
  },
  {
   "cell_type": "code",
   "execution_count": 19,
   "metadata": {},
   "outputs": [
    {
     "name": "stdout",
     "output_type": "stream",
     "text": [
      "Eval: 0.0108\n",
      "[E1/3 - B343/14986] Train: 0.0001 "
     ]
    },
    {
     "ename": "KeyboardInterrupt",
     "evalue": "",
     "output_type": "error",
     "traceback": [
      "\u001b[0;31m---------------------------------------------------------------------------\u001b[0m",
      "\u001b[0;31mKeyboardInterrupt\u001b[0m                         Traceback (most recent call last)",
      "\u001b[0;32m<ipython-input-19-95c9162f4ae6>\u001b[0m in \u001b[0;36m<module>\u001b[0;34m()\u001b[0m\n\u001b[1;32m     49\u001b[0m             \u001b[0mepoch\u001b[0m\u001b[0;34m+\u001b[0m\u001b[0;36m1\u001b[0m\u001b[0;34m,\u001b[0m \u001b[0mEPS\u001b[0m\u001b[0;34m,\u001b[0m\u001b[0;34m\u001b[0m\u001b[0m\n\u001b[1;32m     50\u001b[0m             \u001b[0mbi\u001b[0m\u001b[0;34m+\u001b[0m\u001b[0;36m1\u001b[0m\u001b[0;34m,\u001b[0m \u001b[0mlen\u001b[0m\u001b[0;34m(\u001b[0m\u001b[0mtrain_inds\u001b[0m\u001b[0;34m)\u001b[0m\u001b[0;34m,\u001b[0m\u001b[0;34m\u001b[0m\u001b[0m\n\u001b[0;32m---> 51\u001b[0;31m             \u001b[0mloss\u001b[0m\u001b[0;34m.\u001b[0m\u001b[0mitem\u001b[0m\u001b[0;34m(\u001b[0m\u001b[0;34m)\u001b[0m\u001b[0;34m,\u001b[0m\u001b[0;34m\u001b[0m\u001b[0m\n\u001b[0m\u001b[1;32m     52\u001b[0m         ))\n\u001b[1;32m     53\u001b[0m         \u001b[0mtrain_loss\u001b[0m\u001b[0;34m.\u001b[0m\u001b[0mappend\u001b[0m\u001b[0;34m(\u001b[0m\u001b[0mloss\u001b[0m\u001b[0;34m.\u001b[0m\u001b[0mitem\u001b[0m\u001b[0;34m(\u001b[0m\u001b[0;34m)\u001b[0m\u001b[0;34m)\u001b[0m\u001b[0;34m\u001b[0m\u001b[0m\n",
      "\u001b[0;32m~/.local/lib/python3.5/site-packages/ipykernel/iostream.py\u001b[0m in \u001b[0;36mwrite\u001b[0;34m(self, string)\u001b[0m\n\u001b[1;32m    374\u001b[0m             \u001b[0mis_child\u001b[0m \u001b[0;34m=\u001b[0m \u001b[0;34m(\u001b[0m\u001b[0;32mnot\u001b[0m \u001b[0mself\u001b[0m\u001b[0;34m.\u001b[0m\u001b[0m_is_master_process\u001b[0m\u001b[0;34m(\u001b[0m\u001b[0;34m)\u001b[0m\u001b[0;34m)\u001b[0m\u001b[0;34m\u001b[0m\u001b[0m\n\u001b[1;32m    375\u001b[0m             \u001b[0;31m# only touch the buffer in the IO thread to avoid races\u001b[0m\u001b[0;34m\u001b[0m\u001b[0;34m\u001b[0m\u001b[0m\n\u001b[0;32m--> 376\u001b[0;31m             \u001b[0mself\u001b[0m\u001b[0;34m.\u001b[0m\u001b[0mpub_thread\u001b[0m\u001b[0;34m.\u001b[0m\u001b[0mschedule\u001b[0m\u001b[0;34m(\u001b[0m\u001b[0;32mlambda\u001b[0m \u001b[0;34m:\u001b[0m \u001b[0mself\u001b[0m\u001b[0;34m.\u001b[0m\u001b[0m_buffer\u001b[0m\u001b[0;34m.\u001b[0m\u001b[0mwrite\u001b[0m\u001b[0;34m(\u001b[0m\u001b[0mstring\u001b[0m\u001b[0;34m)\u001b[0m\u001b[0;34m)\u001b[0m\u001b[0;34m\u001b[0m\u001b[0m\n\u001b[0m\u001b[1;32m    377\u001b[0m             \u001b[0;32mif\u001b[0m \u001b[0mis_child\u001b[0m\u001b[0;34m:\u001b[0m\u001b[0;34m\u001b[0m\u001b[0m\n\u001b[1;32m    378\u001b[0m                 \u001b[0;31m# newlines imply flush in subprocesses\u001b[0m\u001b[0;34m\u001b[0m\u001b[0;34m\u001b[0m\u001b[0m\n",
      "\u001b[0;31mKeyboardInterrupt\u001b[0m: "
     ]
    }
   ],
   "source": [
    "EPS = 3\n",
    "train_loss = []\n",
    "eval_loss = []\n",
    "n2t = lambda narr: torch.from_numpy(narr).to(device).float()\n",
    "\n",
    "def eval_model(evaldata, results=False):\n",
    "    model.eval()\n",
    "    losses = []\n",
    "    ypreds = []\n",
    "    for sent in evaldata:\n",
    "        Xs, Ys = zip(*[load_sent(sent)])\n",
    "        Xs, Ys = np.array(Xs), np.array(Ys)\n",
    "        Xs, Ys = n2t(Xs), n2t(Ys)\n",
    "        \n",
    "        with torch.no_grad():\n",
    "            yhat, _ = model(Xs)\n",
    "            ypreds.append(yhat)\n",
    "            loss = criterion(yhat, Ys)\n",
    "            losses.append(loss.item())\n",
    "    print('Eval: %.4f' % np.mean(losses))\n",
    "    \n",
    "    if results: \n",
    "        return ypreds\n",
    "    else:\n",
    "        return np.mean(losses)\n",
    "    \n",
    "eval_model(eval_sents)\n",
    "\n",
    "for epoch in range(EPS):\n",
    "    model.train()\n",
    "    t0 = time()\n",
    "    for bi in range(0, len(train_inds)-BSIZE, BSIZE):\n",
    "        inds = train_inds[bi:bi+BSIZE]\n",
    "\n",
    "        # TODO: correct formatting for batchsize >1\n",
    "        Xs, Ys = zip(*[load_sent(sents[ind]) for ind in inds])\n",
    "        Xs, Ys = np.array(Xs), np.array(Ys)\n",
    "        Xs, Ys = n2t(Xs), n2t(Ys)\n",
    "        # shape: (batch x seqlen x dim)\n",
    "\n",
    "        yhat, _ = model(Xs)\n",
    "\n",
    "        opt.zero_grad()\n",
    "        loss = criterion(yhat, Ys)\n",
    "        loss.backward()\n",
    "        opt.step()\n",
    "\n",
    "        sys.stdout.write('\\r[E%d/%d - B%d/%d] Train: %.4f ' % (\n",
    "            epoch+1, EPS,\n",
    "            bi+1, len(train_inds),\n",
    "            loss.item(),\n",
    "        ))\n",
    "        train_loss.append(loss.item())\n",
    "    sys.stdout.write('(elapsed: %.2fs)\\n' % (time() - t0))\n",
    "    sys.stdout.flush()\n",
    "    \n",
    "    loss = eval_model()\n",
    "    eval_loss.append(loss)\n",
    "        \n",
    "    shuffle(train_inds)\n",
    "    # TODO: shuffle train inds"
   ]
  },
  {
   "cell_type": "code",
   "execution_count": 11,
   "metadata": {},
   "outputs": [],
   "source": [
    "import matplotlib.pyplot as plt"
   ]
  },
  {
   "cell_type": "code",
   "execution_count": 12,
   "metadata": {},
   "outputs": [
    {
     "data": {
      "image/png": "[encoded data removed]",
      "text/plain": [
       "<Figure size 1008x216 with 1 Axes>"
      ]
     },
     "metadata": {},
     "output_type": "display_data"
    }
   ],
   "source": [
    "plt.figure(figsize=(14, 3))\n",
    "plt.plot(train_loss)\n",
    "plt.show(); plt.close()"
   ]
  },
  {
   "cell_type": "code",
   "execution_count": 20,
   "metadata": {},
   "outputs": [
    {
     "name": "stdout",
     "output_type": "stream",
     "text": [
      "Eval: 0.0184\n"
     ]
    }
   ],
   "source": [
    "test_results = eval_model(test_sents, results=True)"
   ]
  },
  {
   "cell_type": "code",
   "execution_count": 30,
   "metadata": {},
   "outputs": [],
   "source": [
    "index2tag = { index: tag for tag, index in tag_lookup.items() }\n",
    "with open('nn.output' , 'w') as fl:\n",
    "    assert len(test_results) == len(test_sents)\n",
    "    for ti, (yhat, schunk) in enumerate(zip(test_results, test_sents)):\n",
    "        yhat = yhat.detach().cpu().numpy()\n",
    "        for wi, wordinfo in enumerate(schunk.split('\\n')):\n",
    "            word, _, _, tag = wordinfo.split()\n",
    "            taghat = index2tag[np.argmax(yhat[0, wi, :])]\n",
    "\n",
    "            fl.write('%s %s %s\\n' % (word, taghat, tag))\n",
    "        fl.write('\\n')"
   ]
  },
  {
   "cell_type": "code",
   "execution_count": 31,
   "metadata": {},
   "outputs": [
    {
     "name": "stdout",
     "output_type": "stream",
     "text": [
      "processed 46665 tokens with 4681 phrases; found: 5648 phrases; correct: 3340.\r\n",
      "accuracy:  93.24%; precision:  59.14%; recall:  71.35%; FB1:  64.67\r\n",
      "              LOC: precision:  77.04%; recall:  79.86%; FB1:  78.43  1668\r\n",
      "             MISC: precision:  62.25%; recall:  66.21%; FB1:  64.17  702\r\n",
      "              ORG: precision:  50.93%; recall:  61.48%; FB1:  55.71  1661\r\n",
      "              PER: precision:  47.74%; recall:  74.52%; FB1:  58.20  1617\r\n"
     ]
    }
   ],
   "source": [
    "!python conlleval.py nn.output"
   ]
  }
 ],
 "metadata": {
  "kernelspec": {
   "display_name": "Python 3",
   "language": "python",
   "name": "python3"
  },
  "language_info": {
   "codemirror_mode": {
    "name": "ipython",
    "version": 3
   },
   "file_extension": ".py",
   "mimetype": "text/x-python",
   "name": "python",
   "nbconvert_exporter": "python",
   "pygments_lexer": "ipython3",
   "version": "3.5.2"
  }
 },
 "nbformat": 4,
 "nbformat_minor": 2
}
